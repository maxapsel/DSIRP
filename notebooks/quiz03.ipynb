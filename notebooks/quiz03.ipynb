{
 "cells": [
  {
   "cell_type": "markdown",
   "metadata": {},
   "source": [
    "# Quiz 3\n",
    "\n",
    "BEFORE YOU START THIS QUIZ:\n",
    "\n",
    "1. Click on \"Copy to Drive\" to make a copy of the quiz,\n",
    "\n",
    "2. Click on \"Share\",\n",
    "    \n",
    "3. Click on \"Change\" and select \"Anyone with this link can edit\"\n",
    "    \n",
    "4. Click \"Copy link\" and\n",
    "\n",
    "5. Paste the link into [this Canvas assignment](https://canvas.olin.edu/courses/313/assignments/4985). \n",
    "\n",
    "This quiz is open notes, open internet. The only thing you can't do is ask for help.\n",
    "\n",
    "Copyright 2021 Allen Downey, [MIT License](http://opensource.org/licenses/MIT)"
   ]
  },
  {
   "cell_type": "code",
   "execution_count": 1,
   "metadata": {},
   "outputs": [],
   "source": [
    "from os.path import basename, exists\n",
    "\n",
    "def download(url):\n",
    "    filename = basename(url)\n",
    "    if not exists(filename):\n",
    "        from urllib.request import urlretrieve\n",
    "        local, _ = urlretrieve(url, filename)\n",
    "        print('Downloaded ' + local)\n",
    "    \n",
    "download('https://github.com/AllenDowney/DSIRP/raw/main/american-english')"
   ]
  },
  {
   "cell_type": "markdown",
   "metadata": {},
   "source": [
    "## Question 1\n",
    "\n",
    "The following is the implementation of a binary search tree (BST) from `search.ipynb`."
   ]
  },
  {
   "cell_type": "code",
   "execution_count": 2,
   "metadata": {},
   "outputs": [],
   "source": [
    "class Node:\n",
    "    def __init__(self, data, left=None, right=None):\n",
    "        self.data = data\n",
    "        self.left = left\n",
    "        self.right = right\n",
    "        \n",
    "    def __repr__(self):\n",
    "        return f'Node({self.data}, {repr(self.left)}, {repr(self.right)})'"
   ]
  },
  {
   "cell_type": "code",
   "execution_count": 3,
   "metadata": {},
   "outputs": [],
   "source": [
    "class BSTree:\n",
    "    def __init__(self, root=None):\n",
    "        self.root = root\n",
    "        \n",
    "    def __repr__(self):\n",
    "        return f'BSTree({repr(self.root)})'"
   ]
  },
  {
   "cell_type": "code",
   "execution_count": 4,
   "metadata": {},
   "outputs": [],
   "source": [
    "def insert(tree, data):\n",
    "    tree.root = insert_rec(tree.root, data)\n",
    "    \n",
    "def insert_rec(node, data):\n",
    "    if node is None:\n",
    "        return Node(data)\n",
    "    \n",
    "    if data < node.data:\n",
    "        node.left = insert_rec(node.left, data)\n",
    "    else:\n",
    "        node.right = insert_rec(node.right, data)\n",
    "        \n",
    "    return node"
   ]
  },
  {
   "cell_type": "markdown",
   "metadata": {},
   "source": [
    "The following cell reads words from a file and adds them to a BST.\n",
    "But if you run it, you'll get a `RecursionError`."
   ]
  },
  {
   "cell_type": "code",
   "execution_count": 6,
   "metadata": {},
   "outputs": [
    {
     "ename": "RecursionError",
     "evalue": "maximum recursion depth exceeded",
     "output_type": "error",
     "traceback": [
      "\u001b[0;31m---------------------------------------------------------------------------\u001b[0m",
      "\u001b[0;31mRecursionError\u001b[0m                            Traceback (most recent call last)",
      "Cell \u001b[0;32mIn [6], line 5\u001b[0m\n\u001b[1;32m      3\u001b[0m \u001b[39mfor\u001b[39;00m line \u001b[39min\u001b[39;00m \u001b[39mopen\u001b[39m(filename):\n\u001b[1;32m      4\u001b[0m     \u001b[39mfor\u001b[39;00m word \u001b[39min\u001b[39;00m line\u001b[39m.\u001b[39msplit():\n\u001b[0;32m----> 5\u001b[0m         insert(tree, word\u001b[39m.\u001b[39;49mstrip())\n",
      "Cell \u001b[0;32mIn [4], line 2\u001b[0m, in \u001b[0;36minsert\u001b[0;34m(tree, data)\u001b[0m\n\u001b[1;32m      1\u001b[0m \u001b[39mdef\u001b[39;00m \u001b[39minsert\u001b[39m(tree, data):\n\u001b[0;32m----> 2\u001b[0m     tree\u001b[39m.\u001b[39mroot \u001b[39m=\u001b[39m insert_rec(tree\u001b[39m.\u001b[39;49mroot, data)\n",
      "Cell \u001b[0;32mIn [4], line 11\u001b[0m, in \u001b[0;36minsert_rec\u001b[0;34m(node, data)\u001b[0m\n\u001b[1;32m      9\u001b[0m     node\u001b[39m.\u001b[39mleft \u001b[39m=\u001b[39m insert_rec(node\u001b[39m.\u001b[39mleft, data)\n\u001b[1;32m     10\u001b[0m \u001b[39melse\u001b[39;00m:\n\u001b[0;32m---> 11\u001b[0m     node\u001b[39m.\u001b[39mright \u001b[39m=\u001b[39m insert_rec(node\u001b[39m.\u001b[39;49mright, data)\n\u001b[1;32m     13\u001b[0m \u001b[39mreturn\u001b[39;00m node\n",
      "Cell \u001b[0;32mIn [4], line 11\u001b[0m, in \u001b[0;36minsert_rec\u001b[0;34m(node, data)\u001b[0m\n\u001b[1;32m      9\u001b[0m     node\u001b[39m.\u001b[39mleft \u001b[39m=\u001b[39m insert_rec(node\u001b[39m.\u001b[39mleft, data)\n\u001b[1;32m     10\u001b[0m \u001b[39melse\u001b[39;00m:\n\u001b[0;32m---> 11\u001b[0m     node\u001b[39m.\u001b[39mright \u001b[39m=\u001b[39m insert_rec(node\u001b[39m.\u001b[39;49mright, data)\n\u001b[1;32m     13\u001b[0m \u001b[39mreturn\u001b[39;00m node\n",
      "    \u001b[0;31m[... skipping similar frames: insert_rec at line 11 (2967 times)]\u001b[0m\n",
      "Cell \u001b[0;32mIn [4], line 11\u001b[0m, in \u001b[0;36minsert_rec\u001b[0;34m(node, data)\u001b[0m\n\u001b[1;32m      9\u001b[0m     node\u001b[39m.\u001b[39mleft \u001b[39m=\u001b[39m insert_rec(node\u001b[39m.\u001b[39mleft, data)\n\u001b[1;32m     10\u001b[0m \u001b[39melse\u001b[39;00m:\n\u001b[0;32m---> 11\u001b[0m     node\u001b[39m.\u001b[39mright \u001b[39m=\u001b[39m insert_rec(node\u001b[39m.\u001b[39;49mright, data)\n\u001b[1;32m     13\u001b[0m \u001b[39mreturn\u001b[39;00m node\n",
      "Cell \u001b[0;32mIn [4], line 6\u001b[0m, in \u001b[0;36minsert_rec\u001b[0;34m(node, data)\u001b[0m\n\u001b[1;32m      4\u001b[0m \u001b[39mdef\u001b[39;00m \u001b[39minsert_rec\u001b[39m(node, data):\n\u001b[1;32m      5\u001b[0m     \u001b[39mif\u001b[39;00m node \u001b[39mis\u001b[39;00m \u001b[39mNone\u001b[39;00m:\n\u001b[0;32m----> 6\u001b[0m         \u001b[39mreturn\u001b[39;00m Node(data)\n\u001b[1;32m      8\u001b[0m     \u001b[39mif\u001b[39;00m data \u001b[39m<\u001b[39m node\u001b[39m.\u001b[39mdata:\n\u001b[1;32m      9\u001b[0m         node\u001b[39m.\u001b[39mleft \u001b[39m=\u001b[39m insert_rec(node\u001b[39m.\u001b[39mleft, data)\n",
      "\u001b[0;31mRecursionError\u001b[0m: maximum recursion depth exceeded"
     ]
    }
   ],
   "source": [
    "filename = 'american-english'\n",
    "tree = BSTree()\n",
    "for line in open(filename):\n",
    "    for word in line.split():\n",
    "        insert(tree, word.strip())"
   ]
  },
  {
   "cell_type": "markdown",
   "metadata": {},
   "source": [
    "However, if we put the words into a list, shuffle the list, and then put the shuffled words into the BST, it works."
   ]
  },
  {
   "cell_type": "code",
   "execution_count": 7,
   "metadata": {},
   "outputs": [],
   "source": [
    "word_list = []\n",
    "for line in open(filename):\n",
    "    for word in line.split():\n",
    "        word_list.append(word.strip())"
   ]
  },
  {
   "cell_type": "code",
   "execution_count": 8,
   "metadata": {},
   "outputs": [],
   "source": [
    "from random import shuffle\n",
    "\n",
    "shuffle(word_list)"
   ]
  },
  {
   "cell_type": "code",
   "execution_count": 9,
   "metadata": {},
   "outputs": [],
   "source": [
    "tree = BSTree()\n",
    "for word in word_list:\n",
    "    insert(tree, word.strip())"
   ]
  },
  {
   "cell_type": "markdown",
   "metadata": {},
   "source": [
    "Write a few clear, complete sentences to answer the following two questions:\n",
    "\n",
    "1) Why did we get a `RecursionError`, and why does shuffling the words fix the problem?"
   ]
  },
  {
   "cell_type": "markdown",
   "metadata": {},
   "source": [
    "Since the unshuffled list is already in alphabetical order, the function is placing them in a tree that will never have more than one branch coming off of each word. RecursionError comes after 1000 runs, and there are far more than 1000 words in the dictionary. When it is shuffled, the function can sort the list in a tree without reaching 1000 recursions."
   ]
  },
  {
   "cell_type": "markdown",
   "metadata": {},
   "source": [
    "2) What is the order of growth for the whole process; that is, reading the words into a list, shuffling the list, and then putting the shuffled words into a binary search tree. You can assume that `shuffle` is linear."
   ]
  },
  {
   "cell_type": "markdown",
   "metadata": {},
   "source": [
    "$O(2n+log(n))$ would be the order of growth because it is a binary search tree in addition to reading each word into a list and then shuffling the list, which is linear."
   ]
  },
  {
   "cell_type": "markdown",
   "metadata": {},
   "source": [
    "## Question 2\n",
    "\n",
    "As we discussed in class, there are three versions of the search problem:\n",
    "\n",
    "1) Checking whether an element is in a collection; for example, this is what the `in` operator does.\n",
    "\n",
    "2) Finding the index of an element in an ordered collection; for example, this is what the string method `find` does.\n",
    "\n",
    "3) In a collection of key-value pairs, finding the value that corresponds to a given key; this is what the dictionary method `get` does.\n",
    "\n",
    "In `search.ipynb`, we used a BST to solve the first problem. In this exercise, you will modify it to solve the third problem.\n",
    "\n",
    "Here's the code again (although notice that the names of the objects are `MapNode` and `BSTMap`)."
   ]
  },
  {
   "cell_type": "code",
   "execution_count": 5,
   "metadata": {},
   "outputs": [],
   "source": [
    "class MapNode:\n",
    "    def __init__(self, key, value, left=None, right=None):\n",
    "        self.key = key\n",
    "        self.value = value\n",
    "        self.left = left\n",
    "        self.right = right\n",
    "        \n",
    "    def __repr__(self):\n",
    "        return f'MapNode({self.key}, {repr(self.left)}, {repr(self.right)})'"
   ]
  },
  {
   "cell_type": "code",
   "execution_count": 6,
   "metadata": {},
   "outputs": [],
   "source": [
    "class BSTMap:\n",
    "    def __init__(self, root=None):\n",
    "        self.root = root\n",
    "        \n",
    "    def __repr__(self):\n",
    "        return f'BSTMap({repr(self.root)})'"
   ]
  },
  {
   "cell_type": "code",
   "execution_count": 7,
   "metadata": {},
   "outputs": [],
   "source": [
    "def insert_map(tree, key, value):\n",
    "    tree.root = insert_map_rec(tree.root, key, value)\n",
    "    \n",
    "def insert_map_rec(node, key, value):\n",
    "    if node is None:\n",
    "        return MapNode(key, value)\n",
    "    \n",
    "    if key < node.key:\n",
    "        node.left = insert_map_rec(node.left, key, value)\n",
    "    else:\n",
    "        node.right = insert_map_rec(node.right, key, value)\n",
    "        \n",
    "    return node"
   ]
  },
  {
   "cell_type": "code",
   "execution_count": 8,
   "metadata": {},
   "outputs": [],
   "source": [
    "def get(tree, key):\n",
    "    return get_rec(tree.root, key)\n",
    "\n",
    "def get_rec(node, key):\n",
    "    if key == node.key:\n",
    "        return node.value\n",
    "\n",
    "    if node.left and key < node.key:\n",
    "        return get_rec(node.left, key)\n",
    "    elif node.right and key > node.key:\n",
    "        return get_rec(node.right, key)\n",
    "    else:\n",
    "        raise KeyError(\"Key not found\")"
   ]
  },
  {
   "cell_type": "code",
   "execution_count": 1,
   "metadata": {},
   "outputs": [],
   "source": [
    "try:\n",
    "    import EoN\n",
    "except ImportError:\n",
    "    !pip3 install EoN"
   ]
  },
  {
   "cell_type": "code",
   "execution_count": 15,
   "metadata": {},
   "outputs": [],
   "source": [
    "import networkx as nx\n",
    "\n",
    "def add_edges(node, G):\n",
    "    \"\"\"Make a NetworkX graph that represents the heap.\"\"\"\n",
    "    if node is None:\n",
    "        return\n",
    "    \n",
    "    G.add_node(node, label=node.key)\n",
    "    for child in (node.left, node.right):\n",
    "        if child:\n",
    "            G.add_edge(node, child)\n",
    "            add_edges(child, G)"
   ]
  },
  {
   "cell_type": "code",
   "execution_count": 11,
   "metadata": {},
   "outputs": [
    {
     "ename": "NameError",
     "evalue": "name 'tree' is not defined",
     "output_type": "error",
     "traceback": [
      "\u001b[0;31m---------------------------------------------------------------------------\u001b[0m",
      "\u001b[0;31mNameError\u001b[0m                                 Traceback (most recent call last)",
      "Cell \u001b[0;32mIn [11], line 2\u001b[0m\n\u001b[1;32m      1\u001b[0m G \u001b[39m=\u001b[39m nx\u001b[39m.\u001b[39mDiGraph()\n\u001b[0;32m----> 2\u001b[0m add_edges(tree\u001b[39m.\u001b[39mroot, G)\n\u001b[1;32m      3\u001b[0m G\u001b[39m.\u001b[39mnodes()\n",
      "\u001b[0;31mNameError\u001b[0m: name 'tree' is not defined"
     ]
    }
   ],
   "source": []
  },
  {
   "cell_type": "code",
   "execution_count": 19,
   "metadata": {},
   "outputs": [],
   "source": [
    "labels = {node: node.key for node in G.nodes()}"
   ]
  },
  {
   "cell_type": "code",
   "execution_count": 20,
   "metadata": {},
   "outputs": [],
   "source": [
    "from EoN import hierarchy_pos\n",
    "\n",
    "def draw_tree(tree):\n",
    "    G = nx.DiGraph()\n",
    "    add_edges(tree.root, G)\n",
    "    pos = hierarchy_pos(G)\n",
    "    labels = {node: node.key for node in G.nodes()}\n",
    "    nx.draw(G, pos, labels=labels, alpha=0.4)"
   ]
  },
  {
   "cell_type": "code",
   "execution_count": null,
   "metadata": {},
   "outputs": [],
   "source": []
  },
  {
   "cell_type": "code",
   "execution_count": null,
   "metadata": {},
   "outputs": [],
   "source": []
  },
  {
   "cell_type": "markdown",
   "metadata": {},
   "source": [
    "Modify this code so that it stores keys and values, rather than just elements of a collection.\n",
    "Then write a function called `get` that takes a `BSTMap` and a key:\n",
    "\n",
    "* If the key is in the map, it should return the corresponding value;\n",
    "\n",
    "* Otherwise it should raise a `KeyError` with an appropriate message.\n",
    "\n",
    "You can use the following code to test your implementation."
   ]
  },
  {
   "cell_type": "code",
   "execution_count": 9,
   "metadata": {},
   "outputs": [
    {
     "name": "stdout",
     "output_type": "stream",
     "text": [
      "u 0\n",
      "n 1\n",
      "i 2\n",
      "q 3\n",
      "u 4\n",
      "e 5\n",
      "l 6\n",
      "t 7\n",
      "r 8\n",
      "s 9\n"
     ]
    },
    {
     "data": {
      "text/plain": [
       "BSTMap(MapNode(u, MapNode(n, MapNode(i, MapNode(e, None, None), MapNode(l, None, None)), MapNode(q, None, MapNode(t, MapNode(r, None, MapNode(s, None, None)), None))), MapNode(u, None, None)))"
      ]
     },
     "execution_count": 9,
     "metadata": {},
     "output_type": "execute_result"
    }
   ],
   "source": [
    "tree_map = BSTMap()\n",
    "\n",
    "keys = 'uniqueltrs'\n",
    "values = range(len(keys))\n",
    "for key, value in zip(keys, values):\n",
    "    print(key, value)\n",
    "    insert_map(tree_map, key, value)\n",
    "\n",
    "tree_map"
   ]
  },
  {
   "cell_type": "code",
   "execution_count": 78,
   "metadata": {},
   "outputs": [
    {
     "name": "stdout",
     "output_type": "stream",
     "text": [
      "u 0\n",
      "n 1\n",
      "i 2\n",
      "q 3\n",
      "u 0\n",
      "e 5\n",
      "l 6\n",
      "t 7\n",
      "r 8\n",
      "s 9\n"
     ]
    }
   ],
   "source": [
    "for key in keys:\n",
    "    print(key, get(tree_map, key))"
   ]
  },
  {
   "cell_type": "markdown",
   "metadata": {},
   "source": [
    "The following should raise a `KeyError`."
   ]
  },
  {
   "cell_type": "code",
   "execution_count": 81,
   "metadata": {},
   "outputs": [
    {
     "ename": "KeyError",
     "evalue": "'Key not found'",
     "output_type": "error",
     "traceback": [
      "\u001b[0;31m---------------------------------------------------------------------------\u001b[0m",
      "\u001b[0;31mKeyError\u001b[0m                                  Traceback (most recent call last)",
      "Cell \u001b[0;32mIn [81], line 1\u001b[0m\n\u001b[0;32m----> 1\u001b[0m get(tree_map, \u001b[39m'\u001b[39;49m\u001b[39mb\u001b[39;49m\u001b[39m'\u001b[39;49m)\n",
      "Cell \u001b[0;32mIn [80], line 2\u001b[0m, in \u001b[0;36mget\u001b[0;34m(tree, key)\u001b[0m\n\u001b[1;32m      1\u001b[0m \u001b[39mdef\u001b[39;00m \u001b[39mget\u001b[39m(tree, key):\n\u001b[0;32m----> 2\u001b[0m     \u001b[39mreturn\u001b[39;00m get_rec(tree\u001b[39m.\u001b[39;49mroot, key)\n",
      "Cell \u001b[0;32mIn [80], line 9\u001b[0m, in \u001b[0;36mget_rec\u001b[0;34m(node, key)\u001b[0m\n\u001b[1;32m      6\u001b[0m     \u001b[39mreturn\u001b[39;00m node\u001b[39m.\u001b[39mvalue\n\u001b[1;32m      8\u001b[0m \u001b[39mif\u001b[39;00m node\u001b[39m.\u001b[39mleft \u001b[39mand\u001b[39;00m key \u001b[39m<\u001b[39m node\u001b[39m.\u001b[39mkey:\n\u001b[0;32m----> 9\u001b[0m     \u001b[39mreturn\u001b[39;00m get_rec(node\u001b[39m.\u001b[39;49mleft, key)\n\u001b[1;32m     10\u001b[0m \u001b[39melif\u001b[39;00m node\u001b[39m.\u001b[39mright \u001b[39mand\u001b[39;00m key \u001b[39m>\u001b[39m node\u001b[39m.\u001b[39mkey:\n\u001b[1;32m     11\u001b[0m     \u001b[39mreturn\u001b[39;00m get_rec(node\u001b[39m.\u001b[39mright, key)\n",
      "Cell \u001b[0;32mIn [80], line 9\u001b[0m, in \u001b[0;36mget_rec\u001b[0;34m(node, key)\u001b[0m\n\u001b[1;32m      6\u001b[0m     \u001b[39mreturn\u001b[39;00m node\u001b[39m.\u001b[39mvalue\n\u001b[1;32m      8\u001b[0m \u001b[39mif\u001b[39;00m node\u001b[39m.\u001b[39mleft \u001b[39mand\u001b[39;00m key \u001b[39m<\u001b[39m node\u001b[39m.\u001b[39mkey:\n\u001b[0;32m----> 9\u001b[0m     \u001b[39mreturn\u001b[39;00m get_rec(node\u001b[39m.\u001b[39;49mleft, key)\n\u001b[1;32m     10\u001b[0m \u001b[39melif\u001b[39;00m node\u001b[39m.\u001b[39mright \u001b[39mand\u001b[39;00m key \u001b[39m>\u001b[39m node\u001b[39m.\u001b[39mkey:\n\u001b[1;32m     11\u001b[0m     \u001b[39mreturn\u001b[39;00m get_rec(node\u001b[39m.\u001b[39mright, key)\n",
      "Cell \u001b[0;32mIn [80], line 9\u001b[0m, in \u001b[0;36mget_rec\u001b[0;34m(node, key)\u001b[0m\n\u001b[1;32m      6\u001b[0m     \u001b[39mreturn\u001b[39;00m node\u001b[39m.\u001b[39mvalue\n\u001b[1;32m      8\u001b[0m \u001b[39mif\u001b[39;00m node\u001b[39m.\u001b[39mleft \u001b[39mand\u001b[39;00m key \u001b[39m<\u001b[39m node\u001b[39m.\u001b[39mkey:\n\u001b[0;32m----> 9\u001b[0m     \u001b[39mreturn\u001b[39;00m get_rec(node\u001b[39m.\u001b[39;49mleft, key)\n\u001b[1;32m     10\u001b[0m \u001b[39melif\u001b[39;00m node\u001b[39m.\u001b[39mright \u001b[39mand\u001b[39;00m key \u001b[39m>\u001b[39m node\u001b[39m.\u001b[39mkey:\n\u001b[1;32m     11\u001b[0m     \u001b[39mreturn\u001b[39;00m get_rec(node\u001b[39m.\u001b[39mright, key)\n",
      "Cell \u001b[0;32mIn [80], line 13\u001b[0m, in \u001b[0;36mget_rec\u001b[0;34m(node, key)\u001b[0m\n\u001b[1;32m     11\u001b[0m     \u001b[39mreturn\u001b[39;00m get_rec(node\u001b[39m.\u001b[39mright, key)\n\u001b[1;32m     12\u001b[0m \u001b[39melse\u001b[39;00m:\n\u001b[0;32m---> 13\u001b[0m     \u001b[39mraise\u001b[39;00m \u001b[39mKeyError\u001b[39;00m(\u001b[39m\"\u001b[39m\u001b[39mKey not found\u001b[39m\u001b[39m\"\u001b[39m)\n",
      "\u001b[0;31mKeyError\u001b[0m: 'Key not found'"
     ]
    }
   ],
   "source": [
    "get(tree_map, 'b')"
   ]
  },
  {
   "cell_type": "code",
   "execution_count": 17,
   "metadata": {},
   "outputs": [
    {
     "data": {
      "text/plain": [
       "NodeView((MapNode(u, MapNode(n, MapNode(i, MapNode(e, None, None), MapNode(l, None, None)), MapNode(q, None, MapNode(t, MapNode(r, None, MapNode(s, None, None)), None))), MapNode(u, None, None)), MapNode(n, MapNode(i, MapNode(e, None, None), MapNode(l, None, None)), MapNode(q, None, MapNode(t, MapNode(r, None, MapNode(s, None, None)), None))), MapNode(i, MapNode(e, None, None), MapNode(l, None, None)), MapNode(e, None, None), MapNode(l, None, None), MapNode(q, None, MapNode(t, MapNode(r, None, MapNode(s, None, None)), None)), MapNode(t, MapNode(r, None, MapNode(s, None, None)), None), MapNode(r, None, MapNode(s, None, None)), MapNode(s, None, None), MapNode(u, None, None)))"
      ]
     },
     "execution_count": 17,
     "metadata": {},
     "output_type": "execute_result"
    }
   ],
   "source": [
    "G = nx.DiGraph()\n",
    "add_edges(tree_map.root, G)\n",
    "G.nodes()"
   ]
  },
  {
   "cell_type": "code",
   "execution_count": 21,
   "metadata": {},
   "outputs": [
    {
     "data": {
      "image/png": "[encoded data removed]",
      "text/plain": [
       "<Figure size 640x480 with 1 Axes>"
      ]
     },
     "metadata": {},
     "output_type": "display_data"
    }
   ],
   "source": [
    "draw_tree(tree_map)"
   ]
  },
  {
   "cell_type": "code",
   "execution_count": null,
   "metadata": {},
   "outputs": [],
   "source": []
  },
  {
   "cell_type": "markdown",
   "metadata": {},
   "source": [
    "## Alternative solution"
   ]
  },
  {
   "cell_type": "code",
   "execution_count": null,
   "metadata": {},
   "outputs": [],
   "source": []
  },
  {
   "cell_type": "code",
   "execution_count": null,
   "metadata": {},
   "outputs": [],
   "source": []
  },
  {
   "cell_type": "code",
   "execution_count": null,
   "metadata": {},
   "outputs": [],
   "source": []
  },
  {
   "cell_type": "code",
   "execution_count": null,
   "metadata": {},
   "outputs": [],
   "source": []
  },
  {
   "cell_type": "markdown",
   "metadata": {},
   "source": [
    "Modify this code so that it stores keys and values, rather than just elements of a collection.\n",
    "Then write a function called `get` that takes a `BSTMap` and a key:\n",
    "\n",
    "* If the key is in the map, it should return the corresponding value;\n",
    "\n",
    "* Otherwise it should raise a `KeyError` with an appropriate message.\n",
    "\n",
    "You can use the following code to test your implementation."
   ]
  },
  {
   "cell_type": "code",
   "execution_count": null,
   "metadata": {},
   "outputs": [],
   "source": [
    "tree_map = BSTMap()\n",
    "\n",
    "keys = 'uniqueltrs'\n",
    "values = range(len(keys))\n",
    "for key, value in zip(keys, values):\n",
    "    print(key, value)\n",
    "    insert_map(tree_map, key, value)\n",
    "\n",
    "tree_map"
   ]
  },
  {
   "cell_type": "code",
   "execution_count": null,
   "metadata": {},
   "outputs": [],
   "source": [
    "for key in keys:\n",
    "    print(key, get(tree_map, key))"
   ]
  },
  {
   "cell_type": "code",
   "execution_count": null,
   "metadata": {},
   "outputs": [],
   "source": []
  }
 ],
 "metadata": {
  "kernelspec": {
   "display_name": "Python 3.9.6 64-bit",
   "language": "python",
   "name": "python3"
  },
  "language_info": {
   "codemirror_mode": {
    "name": "ipython",
    "version": 3
   },
   "file_extension": ".py",
   "mimetype": "text/x-python",
   "name": "python",
   "nbconvert_exporter": "python",
   "pygments_lexer": "ipython3",
   "version": "3.9.6"
  },
  "vscode": {
   "interpreter": {
    "hash": "31f2aee4e71d21fbe5cf8b01ff0e069b9275f58929596ceb00d14d90e3e16cd6"
   }
  }
 },
 "nbformat": 4,
 "nbformat_minor": 1
}
