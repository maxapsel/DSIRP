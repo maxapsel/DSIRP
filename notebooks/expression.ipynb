{
 "cells": [
  {
   "cell_type": "code",
   "execution_count": 1,
   "metadata": {},
   "outputs": [],
   "source": [
    "class Node:\n",
    " def __init__(self, left_child_index):\n",
    "  self.DataValue = \"\"\n",
    "  self.LeftChild = left_child_index\n",
    "  self.RightChild = -1"
   ]
  },
  {
   "cell_type": "code",
   "execution_count": 2,
   "metadata": {},
   "outputs": [],
   "source": [
    "class ExpressionTree:\n",
    " def __init__(self):\n",
    "  self.Tree = list()\n",
    "  for index in range(1, 21):\n",
    "   self.Tree.append(Node(index))\n",
    "  self.Fringe = list()\n",
    "  self.Root = 0\n",
    "  self.NextFreeChild = 0"
   ]
  },
  {
   "cell_type": "code",
   "execution_count": 4,
   "metadata": {},
   "outputs": [],
   "source": [
    "def IsOperator(self, s):\n",
    " if '+' in s:\n",
    "  return True\n",
    " if '-' in s:\n",
    "  return True\n",
    " if '*' in s:\n",
    "  return True\n",
    " if '/' in s:\n",
    "  return True\n",
    " return False"
   ]
  },
  {
   "cell_type": "code",
   "execution_count": 6,
   "metadata": {},
   "outputs": [],
   "source": [
    "def Insert(self, NewToken):\n",
    " if self.NextFreeChild == -1: # check if tree is full\n",
    "  return \"Tree is Full\"\n",
    " # tree is not full, safe to insert new token\n",
    " if self.NextFreeChild == 0:\n",
    "  self.Tree[self.Root].DataValue = NewToken\n",
    "  self.NextFreeChild = self.Tree[self.Root].LeftChild\n",
    "  self.Tree[self.Root].LeftChild = -1\n",
    " else:\n",
    "  # insert into tree with existing nodes\n",
    "  # starting with Root\n",
    "  Current = 0 # index of the current node\n",
    "  Previous = -1 # index of previous node\n",
    "  NewNode = self.Tree[self.NextFreeChild] # declare new node\n",
    "  NewNode.DataValue = NewToken\n",
    "  # Finding the node at which the NewNode can be inserted\n",
    "  while Current != -1:\n",
    "   CurrNode = self.Tree[Current]\n",
    "   # check if CurrNode contains an operator\n",
    "   if self.IsOperator(CurrNode.DataValue):\n",
    "    # if LeftChild is empty, insert here\n",
    "    if CurrNode.LeftChild == -1:\n",
    "     CurrNode.LeftChild = self.NextFreeChild\n",
    "     self.NextFreeChild = NewNode.LeftChild\n",
    "     NewNode.LeftChild = -1\n",
    "     Current = -1\n",
    "    # if RightChild is empty, insert here\n",
    "    elif CurrNode.RightChild == -1:\n",
    "     CurrNode.RightChild = self.NextFreeChild\n",
    "     self.NextFreeChild = NewNode.LeftChild\n",
    "     NewNode.LeftChild = -1\n",
    "     Current = -1\n",
    "    # if LeftChild is an operator\n",
    "    # traverse LeftChild subtree\n",
    "    elif self.IsOperator(self.Tree[CurrNode.LeftChild].DataValue):\n",
    "     Previous = Current\n",
    "     Current = CurrNode.LeftChild\n",
    "     self.Fringe.append(Previous)\n",
    "    # if RightChild is an operator\n",
    "    # traverse RightChild subtree\n",
    "    elif self.IsOperator(self.Tree[CurrNode.RightChild].DataValue):\n",
    "     Previous = Current\n",
    "     Current = CurrNode.RightChild\n",
    "     self.Fringe.append(Previous)\n",
    "    # traverse right subtree\n",
    "    else:\n",
    "     Previous = self.Fringe.pop(-1)\n",
    "     Current = self.Tree[Previous].RightChild\n",
    "   # no place to insert\n",
    "   else:\n",
    "    return \"Cannot be inserted\""
   ]
  },
  {
   "cell_type": "code",
   "execution_count": null,
   "metadata": {},
   "outputs": [],
   "source": []
  }
 ],
 "metadata": {
  "kernelspec": {
   "display_name": "Python 3.9.6 64-bit",
   "language": "python",
   "name": "python3"
  },
  "language_info": {
   "codemirror_mode": {
    "name": "ipython",
    "version": 3
   },
   "file_extension": ".py",
   "mimetype": "text/x-python",
   "name": "python",
   "nbconvert_exporter": "python",
   "pygments_lexer": "ipython3",
   "version": "3.9.6"
  },
  "orig_nbformat": 4,
  "vscode": {
   "interpreter": {
    "hash": "31f2aee4e71d21fbe5cf8b01ff0e069b9275f58929596ceb00d14d90e3e16cd6"
   }
  }
 },
 "nbformat": 4,
 "nbformat_minor": 2
}
